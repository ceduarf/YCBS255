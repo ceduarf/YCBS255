{
 "cells": [
  {
   "cell_type": "markdown",
   "metadata": {},
   "source": [
    "Assignment 1\n",
    "=============\n",
    "\n",
    "1. Exploring the data through various figures\n",
    "------------------------"
   ]
  },
  {
   "cell_type": "code",
   "execution_count": 68,
   "metadata": {},
   "outputs": [],
   "source": [
    "#Importing Pandas and NumPy libraries\n",
    "import pandas as pd\n",
    "import numpy as np\n",
    "\n",
    "#Configuring the dataset path and filename\n",
    "path='/Users/edu/Documents/Canada/McGill/YCBS255/Assignment1/'\n",
    "filename=path +'Income2.csv'\n",
    "\n",
    "#Loading the file (dataset) Income2.csv\n",
    "income = pd.read_csv(filename)"
   ]
  },
  {
   "cell_type": "code",
   "execution_count": 69,
   "metadata": {},
   "outputs": [
    {
     "name": "stdout",
     "output_type": "stream",
     "text": [
      "    Unnamed: 0  Education   Seniority     Income\n",
      "0            1  21.586207  113.103448  99.917173\n",
      "1            2  18.275862  119.310345  92.579135\n",
      "2            3  12.068966  100.689655  34.678727\n",
      "3            4  17.034483  187.586207  78.702806\n",
      "4            5  19.931034   20.000000  68.009922\n",
      "5            6  18.275862   26.206897  71.504485\n",
      "6            7  19.931034  150.344828  87.970467\n",
      "7            8  21.172414   82.068966  79.811030\n",
      "8            9  20.344828   88.275862  90.006327\n",
      "9           10  10.000000  113.103448  45.655529\n",
      "10          11  13.724138   51.034483  31.913808\n",
      "11          12  18.689655  144.137931  96.282997\n",
      "12          13  11.655172   20.000000  27.982505\n",
      "13          14  16.620690   94.482759  66.601792\n",
      "14          15  10.000000  187.586207  41.531992\n",
      "15          16  20.344828   94.482759  89.000701\n",
      "16          17  14.137931   20.000000  28.816301\n",
      "17          18  16.620690   44.827586  57.681694\n",
      "18          19  16.620690  175.172414  70.105096\n",
      "19          20  20.344828  187.586207  98.834012\n",
      "20          21  18.275862  100.689655  74.704699\n",
      "21          22  14.551724  137.931034  53.532106\n",
      "22          23  17.448276   94.482759  72.078924\n",
      "23          24  10.413793   32.413793  18.570665\n",
      "24          25  21.586207   20.000000  78.805784\n",
      "25          26  11.241379   44.827586  21.388561\n",
      "26          27  19.931034  168.965517  90.814035\n",
      "27          28  11.655172   57.241379  22.636163\n",
      "28          29  12.068966   32.413793  17.613593\n",
      "29          30  17.034483  106.896552  74.610960\n"
     ]
    }
   ],
   "source": [
    "#Printing the dataset\n",
    "#We have 3 columns: education, seniority, and income (dependent variable)\n",
    "print(income)"
   ]
  },
  {
   "cell_type": "code",
   "execution_count": 70,
   "metadata": {},
   "outputs": [
    {
     "name": "stdout",
     "output_type": "stream",
     "text": [
      "The average income is: $62.74473297685128\n"
     ]
    }
   ],
   "source": [
    "#Exploring the data - calculating the mean with numpy\n",
    "print('The average income is: ' + '$' + str(np.mean(income['Income'])))\n"
   ]
  },
  {
   "cell_type": "code",
   "execution_count": 71,
   "metadata": {},
   "outputs": [
    {
     "data": {
      "text/html": [
       "<table class=\"simpletable\">\n",
       "<caption>OLS Regression Results</caption>\n",
       "<tr>\n",
       "  <th>Dep. Variable:</th>         <td>Income</td>      <th>  R-squared:         </th> <td>   0.934</td>\n",
       "</tr>\n",
       "<tr>\n",
       "  <th>Model:</th>                   <td>OLS</td>       <th>  Adj. R-squared:    </th> <td>   0.929</td>\n",
       "</tr>\n",
       "<tr>\n",
       "  <th>Method:</th>             <td>Least Squares</td>  <th>  F-statistic:       </th> <td>   191.4</td>\n",
       "</tr>\n",
       "<tr>\n",
       "  <th>Date:</th>             <td>Wed, 04 Apr 2018</td> <th>  Prob (F-statistic):</th> <td>1.13e-16</td>\n",
       "</tr>\n",
       "<tr>\n",
       "  <th>Time:</th>                 <td>17:44:30</td>     <th>  Log-Likelihood:    </th> <td> -100.15</td>\n",
       "</tr>\n",
       "<tr>\n",
       "  <th>No. Observations:</th>      <td>    30</td>      <th>  AIC:               </th> <td>   206.3</td>\n",
       "</tr>\n",
       "<tr>\n",
       "  <th>Df Residuals:</th>          <td>    27</td>      <th>  BIC:               </th> <td>   210.5</td>\n",
       "</tr>\n",
       "<tr>\n",
       "  <th>Df Model:</th>              <td>     2</td>      <th>                     </th>     <td> </td>   \n",
       "</tr>\n",
       "<tr>\n",
       "  <th>Covariance Type:</th>      <td>nonrobust</td>    <th>                     </th>     <td> </td>   \n",
       "</tr>\n",
       "</table>\n",
       "<table class=\"simpletable\">\n",
       "<tr>\n",
       "      <td></td>         <th>coef</th>     <th>std err</th>      <th>t</th>      <th>P>|t|</th>  <th>[0.025</th>    <th>0.975]</th>  \n",
       "</tr>\n",
       "<tr>\n",
       "  <th>Intercept</th> <td>  -50.0856</td> <td>    5.999</td> <td>   -8.349</td> <td> 0.000</td> <td>  -62.394</td> <td>  -37.777</td>\n",
       "</tr>\n",
       "<tr>\n",
       "  <th>Education</th> <td>    5.8956</td> <td>    0.357</td> <td>   16.513</td> <td> 0.000</td> <td>    5.163</td> <td>    6.628</td>\n",
       "</tr>\n",
       "<tr>\n",
       "  <th>Seniority</th> <td>    0.1729</td> <td>    0.024</td> <td>    7.079</td> <td> 0.000</td> <td>    0.123</td> <td>    0.223</td>\n",
       "</tr>\n",
       "</table>\n",
       "<table class=\"simpletable\">\n",
       "<tr>\n",
       "  <th>Omnibus:</th>       <td> 3.352</td> <th>  Durbin-Watson:     </th> <td>   2.102</td>\n",
       "</tr>\n",
       "<tr>\n",
       "  <th>Prob(Omnibus):</th> <td> 0.187</td> <th>  Jarque-Bera (JB):  </th> <td>   2.672</td>\n",
       "</tr>\n",
       "<tr>\n",
       "  <th>Skew:</th>          <td> 0.729</td> <th>  Prob(JB):          </th> <td>   0.263</td>\n",
       "</tr>\n",
       "<tr>\n",
       "  <th>Kurtosis:</th>      <td> 2.892</td> <th>  Cond. No.          </th> <td>    502.</td>\n",
       "</tr>\n",
       "</table>"
      ],
      "text/plain": [
       "<class 'statsmodels.iolib.summary.Summary'>\n",
       "\"\"\"\n",
       "                            OLS Regression Results                            \n",
       "==============================================================================\n",
       "Dep. Variable:                 Income   R-squared:                       0.934\n",
       "Model:                            OLS   Adj. R-squared:                  0.929\n",
       "Method:                 Least Squares   F-statistic:                     191.4\n",
       "Date:                Wed, 04 Apr 2018   Prob (F-statistic):           1.13e-16\n",
       "Time:                        17:44:30   Log-Likelihood:                -100.15\n",
       "No. Observations:                  30   AIC:                             206.3\n",
       "Df Residuals:                      27   BIC:                             210.5\n",
       "Df Model:                           2                                         \n",
       "Covariance Type:            nonrobust                                         \n",
       "==============================================================================\n",
       "                 coef    std err          t      P>|t|      [0.025      0.975]\n",
       "------------------------------------------------------------------------------\n",
       "Intercept    -50.0856      5.999     -8.349      0.000     -62.394     -37.777\n",
       "Education      5.8956      0.357     16.513      0.000       5.163       6.628\n",
       "Seniority      0.1729      0.024      7.079      0.000       0.123       0.223\n",
       "==============================================================================\n",
       "Omnibus:                        3.352   Durbin-Watson:                   2.102\n",
       "Prob(Omnibus):                  0.187   Jarque-Bera (JB):                2.672\n",
       "Skew:                           0.729   Prob(JB):                        0.263\n",
       "Kurtosis:                       2.892   Cond. No.                         502.\n",
       "==============================================================================\n",
       "\n",
       "Warnings:\n",
       "[1] Standard Errors assume that the covariance matrix of the errors is correctly specified.\n",
       "\"\"\""
      ]
     },
     "execution_count": 71,
     "metadata": {},
     "output_type": "execute_result"
    }
   ],
   "source": [
    "#Exploring the data using statsmodels\n",
    "\n",
    "#import statsmodels module\n",
    "import statsmodels.formula.api as stm\n",
    "\n",
    "#calculating different statistical figures of income based on education and seniority\n",
    "exploreData = stm.ols(formula='Income ~ Education + Seniority', data=income)\n",
    "linearReg=exploreData.fit()\n",
    "linearReg.summary()"
   ]
  },
  {
   "cell_type": "markdown",
   "metadata": {},
   "source": [
    "2. Predicting Y=Income as a linear function of X=Years of Education using simple linear regression\n",
    "------------------------"
   ]
  },
  {
   "cell_type": "code",
   "execution_count": 72,
   "metadata": {},
   "outputs": [
    {
     "name": "stdout",
     "output_type": "stream",
     "text": [
      "The intercept: -41.91661220978736 and the coeficient: [6.38716122] gives us the linear regression of Income as a function of Years of Education\n"
     ]
    }
   ],
   "source": [
    "#Loading LinearRegression model from sklearn\n",
    "from sklearn.linear_model import LinearRegression\n",
    "\n",
    "#Initializing the model\n",
    "lrsklearn = LinearRegression()\n",
    "\n",
    "#Feed the data\n",
    "lrsklearn.fit(X = income[ ['Education'] ], y = income['Income'])\n",
    "#linearReg.intercept_, linearReg.coef_\n",
    "\n",
    "intercept = lrsklearn.intercept_\n",
    "coeficient = lrsklearn.coef_\n",
    "print('The intercept: ' + str(intercept) + ' and the coeficient: '+ str(coeficient) + ' gives us the linear regression of Income as a function of Years of Education') \n"
   ]
  },
  {
   "cell_type": "markdown",
   "metadata": {},
   "source": [
    "3. Predicting Income for a new individual with Years of Education x=18\n",
    "------------------------"
   ]
  },
  {
   "cell_type": "code",
   "execution_count": 74,
   "metadata": {},
   "outputs": [
    {
     "name": "stdout",
     "output_type": "stream",
     "text": [
      "The predicted income for an individual with 18 years of education is: $[73.0522897]\n"
     ]
    }
   ],
   "source": [
    "x=np.array([18])\n",
    "inc=lrsklearn.predict(x.reshape(1,1))\n",
    "\n",
    "#x=lrsklearn.predict(18) - This works too, why if the predict is expecting am array like matrix input as the parameter?\n",
    "\n",
    "print('The predicted income for an individual with 18 years of education is: $' + str(inc))\n"
   ]
  },
  {
   "cell_type": "markdown",
   "metadata": {},
   "source": [
    "4. Generating the scatter plot of Income versus Years of Education\n",
    "------------------------"
   ]
  },
  {
   "cell_type": "code",
   "execution_count": 76,
   "metadata": {},
   "outputs": [
    {
     "data": {
      "text/plain": [
       "Text(0,0.5,'Income $')"
      ]
     },
     "execution_count": 76,
     "metadata": {},
     "output_type": "execute_result"
    },
    {
     "data": {
      "image/png": "[encoded data removed]",
      "text/plain": [
       "<matplotlib.figure.Figure at 0x1a1e23f4e0>"
      ]
     },
     "metadata": {},
     "output_type": "display_data"
    }
   ],
   "source": [
    "import matplotlib.pyplot as plt\n",
    "\n",
    "plt.plot(income.Education, income.Income, 'or', mfc='none');\n",
    "plt.xlabel('Years of Education')\n",
    "plt.ylabel('Income $')\n"
   ]
  },
  {
   "cell_type": "markdown",
   "metadata": {},
   "source": [
    "Plotting only the line with the function equation"
   ]
  },
  {
   "cell_type": "code",
   "execution_count": 77,
   "metadata": {},
   "outputs": [
    {
     "data": {
      "image/png": "[encoded data removed]",
      "text/plain": [
       "<matplotlib.figure.Figure at 0x1a1d5d2e10>"
      ]
     },
     "metadata": {},
     "output_type": "display_data"
    }
   ],
   "source": [
    "plt.plot(income.Education, lrsklearn.intercept_ + lrsklearn.coef_ * income.Education, '-b');"
   ]
  },
  {
   "cell_type": "markdown",
   "metadata": {},
   "source": [
    "Adding the fitted line over the scatter plot"
   ]
  },
  {
   "cell_type": "code",
   "execution_count": 78,
   "metadata": {},
   "outputs": [
    {
     "data": {
      "text/plain": [
       "Text(0,0.5,'Income $')"
      ]
     },
     "execution_count": 78,
     "metadata": {},
     "output_type": "execute_result"
    },
    {
     "data": {
      "image/png": "[encoded data removed]",
      "text/plain": [
       "<matplotlib.figure.Figure at 0x1a1d5d07b8>"
      ]
     },
     "metadata": {},
     "output_type": "display_data"
    }
   ],
   "source": [
    "plt.plot(income.Education, income.Income, 'or', mfc='none');\n",
    "plt.plot(income.Education, lrsklearn.intercept_ + lrsklearn.coef_ * income.Education, '-b');\n",
    "plt.xlabel('Years of Education')\n",
    "plt.ylabel('Income $')"
   ]
  },
  {
   "cell_type": "markdown",
   "metadata": {},
   "source": [
    "5. Predicting Y=Income as a linear function of X1=Years of Education and X2=Seniority for a new individual with X1=18, X2=60\n",
    "------------------"
   ]
  },
  {
   "cell_type": "code",
   "execution_count": 79,
   "metadata": {},
   "outputs": [
    {
     "name": "stdout",
     "output_type": "stream",
     "text": [
      "The predicted income for a person with 18 years of education and 60 years old is: $[66.4056967]\n"
     ]
    }
   ],
   "source": [
    "lrsklearn = LinearRegression()\n",
    "lrsklearn.fit(X = income[ ['Education','Seniority'] ], y = income['Income'])\n",
    "np_array = np.array([18,60])\n",
    "out=lrsklearn.predict(np_array.reshape(1,2))\n",
    "\n",
    "print('The predicted income for a person with 18 years of education and 60 years old is: $' + str(out))\n",
    "\n"
   ]
  },
  {
   "cell_type": "markdown",
   "metadata": {},
   "source": [
    "6. Discussion: strongest predictor of Income\n",
    "----------------\n",
    "\n",
    "In the dataset used for assignment1 the predictor Education is stronger than Seniority for predicting the person's income because the t value (Student's t distibution) of Education is 16.513, bigger than 7.079 of Seniority. The bigger the t value, the better the predictor. \n",
    "Therefore, the figures in this experiment say that the more educated the person is, more likely he/she is to earn a better salary (Yearly income). "
   ]
  },
  {
   "cell_type": "code",
   "execution_count": 80,
   "metadata": {},
   "outputs": [
    {
     "data": {
      "text/html": [
       "<table class=\"simpletable\">\n",
       "<caption>OLS Regression Results</caption>\n",
       "<tr>\n",
       "  <th>Dep. Variable:</th>         <td>Income</td>      <th>  R-squared:         </th> <td>   0.934</td>\n",
       "</tr>\n",
       "<tr>\n",
       "  <th>Model:</th>                   <td>OLS</td>       <th>  Adj. R-squared:    </th> <td>   0.929</td>\n",
       "</tr>\n",
       "<tr>\n",
       "  <th>Method:</th>             <td>Least Squares</td>  <th>  F-statistic:       </th> <td>   191.4</td>\n",
       "</tr>\n",
       "<tr>\n",
       "  <th>Date:</th>             <td>Wed, 04 Apr 2018</td> <th>  Prob (F-statistic):</th> <td>1.13e-16</td>\n",
       "</tr>\n",
       "<tr>\n",
       "  <th>Time:</th>                 <td>17:50:22</td>     <th>  Log-Likelihood:    </th> <td> -100.15</td>\n",
       "</tr>\n",
       "<tr>\n",
       "  <th>No. Observations:</th>      <td>    30</td>      <th>  AIC:               </th> <td>   206.3</td>\n",
       "</tr>\n",
       "<tr>\n",
       "  <th>Df Residuals:</th>          <td>    27</td>      <th>  BIC:               </th> <td>   210.5</td>\n",
       "</tr>\n",
       "<tr>\n",
       "  <th>Df Model:</th>              <td>     2</td>      <th>                     </th>     <td> </td>   \n",
       "</tr>\n",
       "<tr>\n",
       "  <th>Covariance Type:</th>      <td>nonrobust</td>    <th>                     </th>     <td> </td>   \n",
       "</tr>\n",
       "</table>\n",
       "<table class=\"simpletable\">\n",
       "<tr>\n",
       "      <td></td>         <th>coef</th>     <th>std err</th>      <th>t</th>      <th>P>|t|</th>  <th>[0.025</th>    <th>0.975]</th>  \n",
       "</tr>\n",
       "<tr>\n",
       "  <th>Intercept</th> <td>  -50.0856</td> <td>    5.999</td> <td>   -8.349</td> <td> 0.000</td> <td>  -62.394</td> <td>  -37.777</td>\n",
       "</tr>\n",
       "<tr>\n",
       "  <th>Education</th> <td>    5.8956</td> <td>    0.357</td> <td>   16.513</td> <td> 0.000</td> <td>    5.163</td> <td>    6.628</td>\n",
       "</tr>\n",
       "<tr>\n",
       "  <th>Seniority</th> <td>    0.1729</td> <td>    0.024</td> <td>    7.079</td> <td> 0.000</td> <td>    0.123</td> <td>    0.223</td>\n",
       "</tr>\n",
       "</table>\n",
       "<table class=\"simpletable\">\n",
       "<tr>\n",
       "  <th>Omnibus:</th>       <td> 3.352</td> <th>  Durbin-Watson:     </th> <td>   2.102</td>\n",
       "</tr>\n",
       "<tr>\n",
       "  <th>Prob(Omnibus):</th> <td> 0.187</td> <th>  Jarque-Bera (JB):  </th> <td>   2.672</td>\n",
       "</tr>\n",
       "<tr>\n",
       "  <th>Skew:</th>          <td> 0.729</td> <th>  Prob(JB):          </th> <td>   0.263</td>\n",
       "</tr>\n",
       "<tr>\n",
       "  <th>Kurtosis:</th>      <td> 2.892</td> <th>  Cond. No.          </th> <td>    502.</td>\n",
       "</tr>\n",
       "</table>"
      ],
      "text/plain": [
       "<class 'statsmodels.iolib.summary.Summary'>\n",
       "\"\"\"\n",
       "                            OLS Regression Results                            \n",
       "==============================================================================\n",
       "Dep. Variable:                 Income   R-squared:                       0.934\n",
       "Model:                            OLS   Adj. R-squared:                  0.929\n",
       "Method:                 Least Squares   F-statistic:                     191.4\n",
       "Date:                Wed, 04 Apr 2018   Prob (F-statistic):           1.13e-16\n",
       "Time:                        17:50:22   Log-Likelihood:                -100.15\n",
       "No. Observations:                  30   AIC:                             206.3\n",
       "Df Residuals:                      27   BIC:                             210.5\n",
       "Df Model:                           2                                         \n",
       "Covariance Type:            nonrobust                                         \n",
       "==============================================================================\n",
       "                 coef    std err          t      P>|t|      [0.025      0.975]\n",
       "------------------------------------------------------------------------------\n",
       "Intercept    -50.0856      5.999     -8.349      0.000     -62.394     -37.777\n",
       "Education      5.8956      0.357     16.513      0.000       5.163       6.628\n",
       "Seniority      0.1729      0.024      7.079      0.000       0.123       0.223\n",
       "==============================================================================\n",
       "Omnibus:                        3.352   Durbin-Watson:                   2.102\n",
       "Prob(Omnibus):                  0.187   Jarque-Bera (JB):                2.672\n",
       "Skew:                           0.729   Prob(JB):                        0.263\n",
       "Kurtosis:                       2.892   Cond. No.                         502.\n",
       "==============================================================================\n",
       "\n",
       "Warnings:\n",
       "[1] Standard Errors assume that the covariance matrix of the errors is correctly specified.\n",
       "\"\"\""
      ]
     },
     "execution_count": 80,
     "metadata": {},
     "output_type": "execute_result"
    }
   ],
   "source": [
    "linearReg.summary()"
   ]
  },
  {
   "cell_type": "code",
   "execution_count": null,
   "metadata": {},
   "outputs": [],
   "source": []
  }
 ],
 "metadata": {
  "kernelspec": {
   "display_name": "Python 3",
   "language": "python",
   "name": "python3"
  },
  "language_info": {
   "codemirror_mode": {
    "name": "ipython",
    "version": 3
   },
   "file_extension": ".py",
   "mimetype": "text/x-python",
   "name": "python",
   "nbconvert_exporter": "python",
   "pygments_lexer": "ipython3",
   "version": "3.6.4"
  }
 },
 "nbformat": 4,
 "nbformat_minor": 2
}
